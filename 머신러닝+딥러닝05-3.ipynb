{
 "cells": [
  {
   "attachments": {},
   "cell_type": "markdown",
   "metadata": {},
   "source": [
    "# 트리의 앙상블"
   ]
  },
  {
   "attachments": {},
   "cell_type": "markdown",
   "metadata": {},
   "source": [
    "## 정형 데이터\n",
    "정량적 데이터라고도 하면 미리 정의된 구조 또는 모형을 따르는 데이터이다. \n",
    "\n",
    "정량적이고, 값과 숫자로 구성되며, 접근과 해석이 용이한 고도로 조직화된 데이터이다. 정형 데이터의 예로는 날짜, 시간 및 고객 ID가 있다.\n",
    "\n",
    "## 비정형 데이터\n",
    "내부 구조가 없고, 텍스트, 비디오 및 이미지로 구성되며, 이를 관리하고 해석하기 위한 전용 도구가 필요한 질적 데이터이다. \n",
    "\n",
    "비정형 데이터의 예로는 고객 리뷰, 비디오 또는 위성 보안 감시 데이터, 제품 사진 또는 데모 비디오 등이 있다.\n",
    "\n",
    "## 앙상블 학습\n"
   ]
  },
  {
   "cell_type": "code",
   "execution_count": null,
   "metadata": {},
   "outputs": [],
   "source": []
  }
 ],
 "metadata": {
  "kernelspec": {
   "display_name": "Python 3",
   "language": "python",
   "name": "python3"
  },
  "language_info": {
   "codemirror_mode": {
    "name": "ipython",
    "version": 3
   },
   "file_extension": ".py",
   "mimetype": "text/x-python",
   "name": "python",
   "nbconvert_exporter": "python",
   "pygments_lexer": "ipython3",
   "version": "3.11.2"
  },
  "orig_nbformat": 4
 },
 "nbformat": 4,
 "nbformat_minor": 2
}
